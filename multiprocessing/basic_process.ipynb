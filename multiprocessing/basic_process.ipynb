{
 "cells": [
  {
   "cell_type": "markdown",
   "metadata": {},
   "source": [
    "# Basic Multiprocessing Example in Python\n",
    "\n",
    "This notebook demonstrates basic multiprocessing concepts in Python using the `multiprocessing` module. We'll create multiple processes that run different functions concurrently:\n",
    "\n",
    "1. A process that prints numbers\n",
    "2. A process that prints letters\n",
    "3. A process that prints symbols\n",
    "4. A process that performs CPU-intensive calculations\n",
    "\n",
    "Each process will execute its task independently, showing how true parallel execution works with separate Python processes."
   ]
  },
  {
   "cell_type": "code",
   "execution_count": 1,
   "metadata": {},
   "outputs": [],
   "source": [
    "import multiprocessing\n",
    "import time\n",
    "import os"
   ]
  },
  {
   "cell_type": "markdown",
   "metadata": {},
   "source": [
    "## Defining Process Functions\n",
    "\n",
    "First, let's define the functions that our processes will execute. Each function includes the process ID (PID) in its output to demonstrate that they're running in separate processes:"
   ]
  },
  {
   "cell_type": "code",
   "execution_count": 5,
   "metadata": {},
   "outputs": [],
   "source": [
    "def print_numbers():\n",
    "    for i in range(1, 6):\n",
    "        print(f\"{time.time():.4f} - PID {os.getpid()} - Number: {i}\")\n",
    "        time.sleep(1)\n",
    "\n",
    "def print_letters():\n",
    "    for letter in 'YHWH':\n",
    "        print(f\"{time.time():.4f} - PID {os.getpid()} - Letter: {letter}\")\n",
    "        time.sleep(1)\n",
    "\n",
    "def print_symbols():\n",
    "    for symbol in \"@#$%^\":\n",
    "        print(f\"{time.time():.4f} - PID {os.getpid()} - Symbol: {symbol}\")\n",
    "        time.sleep(1)\n",
    "\n",
    "def compute_heavy():\n",
    "    for i in range(1, 6):\n",
    "        print(f\"{time.time():.4f} - PID {os.getpid()} - Heavy computation {i}\")\n",
    "        sum(x*x for x in range(10**6))"
   ]
  },
  {
   "cell_type": "markdown",
   "metadata": {},
   "source": [
    "## Creating and Starting Processes\n",
    "\n",
    "Now we'll create process objects and start them. Each process is given a descriptive name to help identify it in the output. Unlike threads, these processes will run in parallel, potentially utilizing multiple CPU cores:"
   ]
  },
  {
   "cell_type": "code",
   "execution_count": 8,
   "metadata": {},
   "outputs": [
    {
     "name": "stdout",
     "output_type": "stream",
     "text": [
      "All processes have finished execution.\n"
     ]
    }
   ],
   "source": [
    "if __name__ == \"__main__\":\n",
    "    # Create process objects\n",
    "    number_process = multiprocessing.Process(target=print_numbers, name=\"NumberProcess\")\n",
    "    letter_process = multiprocessing.Process(target=print_letters, name=\"LetterProcess\")\n",
    "    symbol_process = multiprocessing.Process(target=print_symbols, name=\"SymbolProcess\")\n",
    "    cpu_process = multiprocessing.Process(target=compute_heavy, name=\"CPUProcess\")\n",
    "\n",
    "    # Start all processes\n",
    "    number_process.start()\n",
    "    letter_process.start()\n",
    "    symbol_process.start()\n",
    "    cpu_process.start()\n",
    "\n",
    "    # Wait for all processes to complete\n",
    "    number_process.join()\n",
    "    letter_process.join()\n",
    "    symbol_process.join()\n",
    "    cpu_process.join()\n",
    "\n",
    "    print(\"All processes have finished execution.\")"
   ]
  },
  {
   "cell_type": "markdown",
   "metadata": {},
   "source": [
    "## Understanding the Output\n",
    "\n",
    "When you run this notebook, you'll notice several key differences from threading:\n",
    "\n",
    "1. Each function runs in a separate process with its own PID (Process ID)\n",
    "2. The CPU-intensive process (`CPUProcess`) can run truly in parallel with other processes\n",
    "3. Unlike threads which share the same Python interpreter, processes run independently with their own Python interpreter\n",
    "4. The timestamps and output ordering may vary more significantly than with threads due to true parallel execution\n",
    "\n",
    "This demonstrates how Python's multiprocessing can achieve true parallelism by bypassing the Global Interpreter Lock (GIL), making it particularly effective for CPU-bound tasks."
   ]
  }
 ],
 "metadata": {
  "kernelspec": {
   "display_name": "Python 3",
   "language": "python",
   "name": "python3"
  },
  "language_info": {
   "codemirror_mode": {
    "name": "ipython",
    "version": 3
   },
   "file_extension": ".py",
   "mimetype": "text/x-python",
   "name": "python",
   "nbconvert_exporter": "python",
   "pygments_lexer": "ipython3",
   "version": "3.10.11"
  }
 },
 "nbformat": 4,
 "nbformat_minor": 4
}
