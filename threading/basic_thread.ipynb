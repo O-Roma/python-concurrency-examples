{
 "cells": [
  {
   "cell_type": "markdown",
   "metadata": {},
   "source": [
    "# Basic Threading Example in Python\n",
    "\n",
    "This notebook demonstrates basic threading concepts in Python using the `threading` module. We'll create multiple threads that run different functions concurrently:\n",
    "\n",
    "1. A thread that prints numbers\n",
    "2. A thread that prints letters\n",
    "3. A thread that prints symbols\n",
    "4. A thread that performs CPU-intensive calculations\n",
    "\n",
    "Each thread will execute its task independently, showing how concurrent execution works."
   ]
  },
  {
   "cell_type": "code",
   "execution_count": 1,
   "metadata": {},
   "outputs": [],
   "source": [
    "import threading\n",
    "import time"
   ]
  },
  {
   "cell_type": "markdown",
   "metadata": {},
   "source": [
    "## Defining Thread Functions\n",
    "\n",
    "First, let's define the functions that our threads will execute:"
   ]
  },
  {
   "cell_type": "code",
   "execution_count": 2,
   "metadata": {},
   "outputs": [],
   "source": [
    "def print_numbers():\n",
    "    for i in range(1, 6):\n",
    "        print(f\"{time.time():.4f} - {threading.current_thread().name} - Number: {i}\")\n",
    "        time.sleep(1)\n",
    "    \n",
    "def print_letters():\n",
    "    for letter in 'YHWH':\n",
    "        print(f\"{time.time():.4f} - {threading.current_thread().name} - Letter: {letter}\")\n",
    "        time.sleep(1)\n",
    "\n",
    "def print_symbols():\n",
    "    for symbol in \"@#$%^\":\n",
    "        print(f\"{time.time():.4f} - {threading.current_thread().name} - Symbol: {symbol}\")\n",
    "        time.sleep(1)\n",
    "\n",
    "def compute_heavy():\n",
    "    for i in range(1, 6):\n",
    "        print(f\"{time.time():.4f} - {threading.current_thread().name} - Heavy computation {i}\")\n",
    "        sum(x*x for x in range(10**6))"
   ]
  },
  {
   "cell_type": "markdown",
   "metadata": {},
   "source": [
    "## Creating and Starting Threads\n",
    "\n",
    "Now we'll create thread objects and start them. Each thread is given a descriptive name to help identify it in the output:"
   ]
  },
  {
   "cell_type": "code",
   "execution_count": 3,
   "metadata": {},
   "outputs": [
    {
     "name": "stdout",
     "output_type": "stream",
     "text": [
      "1742770907.2760 - NumberThread - Number: 1\n",
      "1742770907.2790 - LetterThread - Letter: Y\n",
      "1742770907.2800 - SymbolThread - Symbol: @\n",
      "1742770907.2800 - CPUThread - Heavy computation 1\n",
      "1742770907.3877 - CPUThread - Heavy computation 2\n",
      "1742770907.4795 - CPUThread - Heavy computation 3\n",
      "1742770907.5989 - CPUThread - Heavy computation 4\n",
      "1742770907.7608 - CPUThread - Heavy computation 5\n",
      "1742770908.2823 - SymbolThread - Symbol: #\n",
      "1742770908.2840 - LetterThread - Letter: H\n",
      "1742770908.2840 - NumberThread - Number: 2\n",
      "1742770909.2949 - SymbolThread - Symbol: $1742770909.2949 - LetterThread - Letter: W\n",
      "1742770909.2949 - NumberThread - Number: 3\n",
      "\n",
      "1742770910.3046 - LetterThread - Letter: H\n",
      "1742770910.3064 - SymbolThread - Symbol: %\n",
      "1742770910.3064 - NumberThread - Number: 4\n",
      "1742770911.3115 - NumberThread - Number: 51742770911.3115 - SymbolThread - Symbol: ^\n",
      "\n",
      "All threads have finished execution.\n"
     ]
    }
   ],
   "source": [
    "# Create thread objects\n",
    "number_thread = threading.Thread(target=print_numbers, name=\"NumberThread\")\n",
    "letter_thread = threading.Thread(target=print_letters, name=\"LetterThread\")\n",
    "symbol_thread = threading.Thread(target=print_symbols, name=\"SymbolThread\")\n",
    "cpu_thread = threading.Thread(target=compute_heavy, name=\"CPUThread\")\n",
    "\n",
    "# Start all threads\n",
    "number_thread.start()\n",
    "letter_thread.start()\n",
    "symbol_thread.start()\n",
    "cpu_thread.start()\n",
    "\n",
    "# Wait for all threads to complete\n",
    "number_thread.join()\n",
    "letter_thread.join()\n",
    "symbol_thread.join()\n",
    "cpu_thread.join()\n",
    "\n",
    "print(\"All threads have finished execution.\")"
   ]
  },
  {
   "cell_type": "markdown",
   "metadata": {},
   "source": [
    "## Understanding the Output\n",
    "\n",
    "When you run this notebook, you'll notice that:\n",
    "\n",
    "1. The threads execute concurrently - their output is interleaved\n",
    "2. The CPU-intensive thread (`CPUThread`) tends to complete its calculations quickly because it doesn't have any sleep delays\n",
    "3. The other threads (`NumberThread`, `LetterThread`, `SymbolThread`) take longer because each has a 1-second sleep between operations\n",
    "4. The timestamps show when each operation actually occurred\n",
    "\n",
    "This demonstrates how Python can handle multiple tasks concurrently using threads, even though due to the Global Interpreter Lock (GIL), Python threads don't provide true parallelism for CPU-bound tasks."
   ]
  }
 ],
 "metadata": {
  "kernelspec": {
   "display_name": "Python 3",
   "language": "python",
   "name": "python3"
  },
  "language_info": {
   "codemirror_mode": {
    "name": "ipython",
    "version": 3
   },
   "file_extension": ".py",
   "mimetype": "text/x-python",
   "name": "python",
   "nbconvert_exporter": "python",
   "pygments_lexer": "ipython3",
   "version": "3.10.11"
  }
 },
 "nbformat": 4,
 "nbformat_minor": 4
}
